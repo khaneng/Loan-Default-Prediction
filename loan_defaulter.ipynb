{
  "nbformat": 4,
  "nbformat_minor": 0,
  "metadata": {
    "colab": {
      "name": "loan defaulter.ipynb",
      "provenance": [],
      "collapsed_sections": [],
      "authorship_tag": "ABX9TyNHcbeJWGqCSA8zTYxwRvR2",
      "include_colab_link": true
    },
    "kernelspec": {
      "name": "python3",
      "display_name": "Python 3"
    },
    "language_info": {
      "name": "python"
    },
    "accelerator": "GPU"
  },
  "cells": [
    {
      "cell_type": "markdown",
      "metadata": {
        "id": "view-in-github",
        "colab_type": "text"
      },
      "source": [
        "<a href=\"https://colab.research.google.com/github/khaneng/Loan-Default-Prediction/blob/main/loan_defaulter.ipynb\" target=\"_parent\"><img src=\"https://colab.research.google.com/assets/colab-badge.svg\" alt=\"Open In Colab\"/></a>"
      ]
    },
    {
      "cell_type": "code",
      "metadata": {
        "colab": {
          "base_uri": "https://localhost:8080/"
        },
        "id": "1zSAjFibRbXj",
        "outputId": "870c2148-c435-4a6b-905d-847d50df428e"
      },
      "source": [
        "from google.colab import drive\n",
        "drive.mount(\"/content/drive\")\n"
      ],
      "execution_count": 2,
      "outputs": [
        {
          "output_type": "stream",
          "name": "stdout",
          "text": [
            "Mounted at /content/drive\n"
          ]
        }
      ]
    },
    {
      "cell_type": "code",
      "metadata": {
        "colab": {
          "base_uri": "https://localhost:8080/"
        },
        "id": "ee3BaFc078oS",
        "outputId": "2d6af764-ed4e-485a-e906-59b3064eb164"
      },
      "source": [
        "%cd /content/drive/My\\ Drive/Colab Notebooks"
      ],
      "execution_count": 3,
      "outputs": [
        {
          "output_type": "stream",
          "name": "stdout",
          "text": [
            "/content/drive/My Drive/Colab Notebooks\n"
          ]
        }
      ]
    },
    {
      "cell_type": "markdown",
      "metadata": {
        "id": "18Vw3m8GV2jW"
      },
      "source": [
        "#**Solution Approach**\n",
        "\n",
        "* Read data, examine the data and its types\n",
        "* Data Pre-Processing\n",
        "* Feature Engineering\n",
        "* Missing value imputation\n",
        "* Encoding Categorical datas\n",
        "* Move target variable to different dataframe\n",
        "* Split - train and cross validation sets\n",
        "* Train the model using CatBoostClassifier\n",
        "* Predict"
      ]
    },
    {
      "cell_type": "code",
      "metadata": {
        "colab": {
          "base_uri": "https://localhost:8080/"
        },
        "id": "iS3GnbUCw5JK",
        "outputId": "935a0ce7-6108-48a6-c21a-6f4747bfc5a4"
      },
      "source": [
        "print('Importing packages...')\n",
        "from datetime import datetime\n",
        "import numpy as np\n",
        "import pandas as pd\n",
        "import xgboost\n",
        "from sklearn.metrics import accuracy_score\n",
        "from sklearn.metrics import auc\n",
        "from sklearn.metrics import roc_auc_score\n",
        "from sklearn.model_selection import train_test_split\n",
        "import matplotlib.pyplot as plt\n",
        "import seaborn as sns\n",
        "from scipy.stats import pearsonr\n",
        "import sklearn.metrics as metrics\n",
        "from sklearn.metrics import confusion_matrix, classification_report\n",
        "from sklearn.metrics import roc_curve"
      ],
      "execution_count": 4,
      "outputs": [
        {
          "output_type": "stream",
          "name": "stdout",
          "text": [
            "Importing packages...\n"
          ]
        }
      ]
    },
    {
      "cell_type": "code",
      "metadata": {
        "id": "R4q5MHS5xmZ2"
      },
      "source": [
        "df = pd.read_csv(\"/content/drive/My Drive/Colab Notebooks/ML_Artivatic_dataset/train_indessa.csv\")"
      ],
      "execution_count": 5,
      "outputs": []
    },
    {
      "cell_type": "code",
      "metadata": {
        "id": "wWFL95Ragwzq"
      },
      "source": [
        "df_test = pd.read_csv(\"/content/drive/My Drive/Colab Notebooks/ML_Artivatic_dataset/test_indessa.csv\")"
      ],
      "execution_count": 6,
      "outputs": []
    },
    {
      "cell_type": "code",
      "metadata": {
        "colab": {
          "base_uri": "https://localhost:8080/",
          "height": 469
        },
        "id": "FjJDTl7v8AQg",
        "outputId": "55187aaf-6291-4355-f346-962942f00f38"
      },
      "source": [
        "df.head()"
      ],
      "execution_count": 6,
      "outputs": [
        {
          "output_type": "execute_result",
          "data": {
            "text/html": [
              "<div>\n",
              "<style scoped>\n",
              "    .dataframe tbody tr th:only-of-type {\n",
              "        vertical-align: middle;\n",
              "    }\n",
              "\n",
              "    .dataframe tbody tr th {\n",
              "        vertical-align: top;\n",
              "    }\n",
              "\n",
              "    .dataframe thead th {\n",
              "        text-align: right;\n",
              "    }\n",
              "</style>\n",
              "<table border=\"1\" class=\"dataframe\">\n",
              "  <thead>\n",
              "    <tr style=\"text-align: right;\">\n",
              "      <th></th>\n",
              "      <th>member_id</th>\n",
              "      <th>loan_amnt</th>\n",
              "      <th>funded_amnt</th>\n",
              "      <th>funded_amnt_inv</th>\n",
              "      <th>term</th>\n",
              "      <th>batch_enrolled</th>\n",
              "      <th>int_rate</th>\n",
              "      <th>grade</th>\n",
              "      <th>sub_grade</th>\n",
              "      <th>emp_title</th>\n",
              "      <th>emp_length</th>\n",
              "      <th>home_ownership</th>\n",
              "      <th>annual_inc</th>\n",
              "      <th>verification_status</th>\n",
              "      <th>pymnt_plan</th>\n",
              "      <th>desc</th>\n",
              "      <th>purpose</th>\n",
              "      <th>title</th>\n",
              "      <th>zip_code</th>\n",
              "      <th>addr_state</th>\n",
              "      <th>dti</th>\n",
              "      <th>delinq_2yrs</th>\n",
              "      <th>inq_last_6mths</th>\n",
              "      <th>mths_since_last_delinq</th>\n",
              "      <th>mths_since_last_record</th>\n",
              "      <th>open_acc</th>\n",
              "      <th>pub_rec</th>\n",
              "      <th>revol_bal</th>\n",
              "      <th>revol_util</th>\n",
              "      <th>total_acc</th>\n",
              "      <th>initial_list_status</th>\n",
              "      <th>total_rec_int</th>\n",
              "      <th>total_rec_late_fee</th>\n",
              "      <th>recoveries</th>\n",
              "      <th>collection_recovery_fee</th>\n",
              "      <th>collections_12_mths_ex_med</th>\n",
              "      <th>mths_since_last_major_derog</th>\n",
              "      <th>application_type</th>\n",
              "      <th>verification_status_joint</th>\n",
              "      <th>last_week_pay</th>\n",
              "      <th>acc_now_delinq</th>\n",
              "      <th>tot_coll_amt</th>\n",
              "      <th>tot_cur_bal</th>\n",
              "      <th>total_rev_hi_lim</th>\n",
              "      <th>loan_status</th>\n",
              "    </tr>\n",
              "  </thead>\n",
              "  <tbody>\n",
              "    <tr>\n",
              "      <th>0</th>\n",
              "      <td>58189336</td>\n",
              "      <td>14350</td>\n",
              "      <td>14350</td>\n",
              "      <td>14350.0</td>\n",
              "      <td>36 months</td>\n",
              "      <td></td>\n",
              "      <td>19.19</td>\n",
              "      <td>E</td>\n",
              "      <td>E3</td>\n",
              "      <td>clerk</td>\n",
              "      <td>9 years</td>\n",
              "      <td>OWN</td>\n",
              "      <td>28700.0</td>\n",
              "      <td>Source Verified</td>\n",
              "      <td>n</td>\n",
              "      <td>NaN</td>\n",
              "      <td>debt_consolidation</td>\n",
              "      <td>Debt consolidation</td>\n",
              "      <td>349xx</td>\n",
              "      <td>FL</td>\n",
              "      <td>33.88</td>\n",
              "      <td>0.0</td>\n",
              "      <td>1.0</td>\n",
              "      <td>50.0</td>\n",
              "      <td>75.0</td>\n",
              "      <td>14.0</td>\n",
              "      <td>1.0</td>\n",
              "      <td>22515.0</td>\n",
              "      <td>73.1</td>\n",
              "      <td>28.0</td>\n",
              "      <td>f</td>\n",
              "      <td>1173.84</td>\n",
              "      <td>0.0</td>\n",
              "      <td>0.0</td>\n",
              "      <td>0.0</td>\n",
              "      <td>0.0</td>\n",
              "      <td>74.0</td>\n",
              "      <td>INDIVIDUAL</td>\n",
              "      <td>NaN</td>\n",
              "      <td>26th week</td>\n",
              "      <td>0.0</td>\n",
              "      <td>0.0</td>\n",
              "      <td>28699.0</td>\n",
              "      <td>30800.0</td>\n",
              "      <td>0</td>\n",
              "    </tr>\n",
              "    <tr>\n",
              "      <th>1</th>\n",
              "      <td>70011223</td>\n",
              "      <td>4800</td>\n",
              "      <td>4800</td>\n",
              "      <td>4800.0</td>\n",
              "      <td>36 months</td>\n",
              "      <td>BAT1586599</td>\n",
              "      <td>10.99</td>\n",
              "      <td>B</td>\n",
              "      <td>B4</td>\n",
              "      <td>Human Resources Specialist</td>\n",
              "      <td>&lt; 1 year</td>\n",
              "      <td>MORTGAGE</td>\n",
              "      <td>65000.0</td>\n",
              "      <td>Source Verified</td>\n",
              "      <td>n</td>\n",
              "      <td>NaN</td>\n",
              "      <td>home_improvement</td>\n",
              "      <td>Home improvement</td>\n",
              "      <td>209xx</td>\n",
              "      <td>MD</td>\n",
              "      <td>3.64</td>\n",
              "      <td>0.0</td>\n",
              "      <td>1.0</td>\n",
              "      <td>NaN</td>\n",
              "      <td>NaN</td>\n",
              "      <td>6.0</td>\n",
              "      <td>0.0</td>\n",
              "      <td>7624.0</td>\n",
              "      <td>23.2</td>\n",
              "      <td>13.0</td>\n",
              "      <td>w</td>\n",
              "      <td>83.95</td>\n",
              "      <td>0.0</td>\n",
              "      <td>0.0</td>\n",
              "      <td>0.0</td>\n",
              "      <td>0.0</td>\n",
              "      <td>NaN</td>\n",
              "      <td>INDIVIDUAL</td>\n",
              "      <td>NaN</td>\n",
              "      <td>9th week</td>\n",
              "      <td>0.0</td>\n",
              "      <td>0.0</td>\n",
              "      <td>9974.0</td>\n",
              "      <td>32900.0</td>\n",
              "      <td>0</td>\n",
              "    </tr>\n",
              "    <tr>\n",
              "      <th>2</th>\n",
              "      <td>70255675</td>\n",
              "      <td>10000</td>\n",
              "      <td>10000</td>\n",
              "      <td>10000.0</td>\n",
              "      <td>36 months</td>\n",
              "      <td>BAT1586599</td>\n",
              "      <td>7.26</td>\n",
              "      <td>A</td>\n",
              "      <td>A4</td>\n",
              "      <td>Driver</td>\n",
              "      <td>2 years</td>\n",
              "      <td>OWN</td>\n",
              "      <td>45000.0</td>\n",
              "      <td>Not Verified</td>\n",
              "      <td>n</td>\n",
              "      <td>NaN</td>\n",
              "      <td>debt_consolidation</td>\n",
              "      <td>Debt consolidation</td>\n",
              "      <td>447xx</td>\n",
              "      <td>OH</td>\n",
              "      <td>18.42</td>\n",
              "      <td>0.0</td>\n",
              "      <td>0.0</td>\n",
              "      <td>NaN</td>\n",
              "      <td>NaN</td>\n",
              "      <td>5.0</td>\n",
              "      <td>0.0</td>\n",
              "      <td>10877.0</td>\n",
              "      <td>31.2</td>\n",
              "      <td>19.0</td>\n",
              "      <td>w</td>\n",
              "      <td>56.47</td>\n",
              "      <td>0.0</td>\n",
              "      <td>0.0</td>\n",
              "      <td>0.0</td>\n",
              "      <td>0.0</td>\n",
              "      <td>NaN</td>\n",
              "      <td>INDIVIDUAL</td>\n",
              "      <td>NaN</td>\n",
              "      <td>9th week</td>\n",
              "      <td>0.0</td>\n",
              "      <td>65.0</td>\n",
              "      <td>38295.0</td>\n",
              "      <td>34900.0</td>\n",
              "      <td>0</td>\n",
              "    </tr>\n",
              "    <tr>\n",
              "      <th>3</th>\n",
              "      <td>1893936</td>\n",
              "      <td>15000</td>\n",
              "      <td>15000</td>\n",
              "      <td>15000.0</td>\n",
              "      <td>36 months</td>\n",
              "      <td>BAT4808022</td>\n",
              "      <td>19.72</td>\n",
              "      <td>D</td>\n",
              "      <td>D5</td>\n",
              "      <td>Us office of Personnel Management</td>\n",
              "      <td>10+ years</td>\n",
              "      <td>RENT</td>\n",
              "      <td>105000.0</td>\n",
              "      <td>Not Verified</td>\n",
              "      <td>n</td>\n",
              "      <td>&gt; My goal is to obtain a loan to pay off my hi...</td>\n",
              "      <td>debt_consolidation</td>\n",
              "      <td>Debt consolidation</td>\n",
              "      <td>221xx</td>\n",
              "      <td>VA</td>\n",
              "      <td>14.97</td>\n",
              "      <td>0.0</td>\n",
              "      <td>2.0</td>\n",
              "      <td>46.0</td>\n",
              "      <td>NaN</td>\n",
              "      <td>10.0</td>\n",
              "      <td>0.0</td>\n",
              "      <td>13712.0</td>\n",
              "      <td>55.5</td>\n",
              "      <td>21.0</td>\n",
              "      <td>f</td>\n",
              "      <td>4858.62</td>\n",
              "      <td>0.0</td>\n",
              "      <td>0.0</td>\n",
              "      <td>0.0</td>\n",
              "      <td>0.0</td>\n",
              "      <td>NaN</td>\n",
              "      <td>INDIVIDUAL</td>\n",
              "      <td>NaN</td>\n",
              "      <td>135th week</td>\n",
              "      <td>0.0</td>\n",
              "      <td>0.0</td>\n",
              "      <td>55564.0</td>\n",
              "      <td>24700.0</td>\n",
              "      <td>0</td>\n",
              "    </tr>\n",
              "    <tr>\n",
              "      <th>4</th>\n",
              "      <td>7652106</td>\n",
              "      <td>16000</td>\n",
              "      <td>16000</td>\n",
              "      <td>16000.0</td>\n",
              "      <td>36 months</td>\n",
              "      <td>BAT2833642</td>\n",
              "      <td>10.64</td>\n",
              "      <td>B</td>\n",
              "      <td>B2</td>\n",
              "      <td>LAUSD-HOLLYWOOD HIGH SCHOOL</td>\n",
              "      <td>10+ years</td>\n",
              "      <td>RENT</td>\n",
              "      <td>52000.0</td>\n",
              "      <td>Verified</td>\n",
              "      <td>n</td>\n",
              "      <td>NaN</td>\n",
              "      <td>credit_card</td>\n",
              "      <td>refi</td>\n",
              "      <td>900xx</td>\n",
              "      <td>CA</td>\n",
              "      <td>20.16</td>\n",
              "      <td>0.0</td>\n",
              "      <td>0.0</td>\n",
              "      <td>NaN</td>\n",
              "      <td>NaN</td>\n",
              "      <td>11.0</td>\n",
              "      <td>0.0</td>\n",
              "      <td>35835.0</td>\n",
              "      <td>76.2</td>\n",
              "      <td>27.0</td>\n",
              "      <td>w</td>\n",
              "      <td>2296.41</td>\n",
              "      <td>0.0</td>\n",
              "      <td>0.0</td>\n",
              "      <td>0.0</td>\n",
              "      <td>0.0</td>\n",
              "      <td>NaN</td>\n",
              "      <td>INDIVIDUAL</td>\n",
              "      <td>NaN</td>\n",
              "      <td>96th week</td>\n",
              "      <td>0.0</td>\n",
              "      <td>0.0</td>\n",
              "      <td>47159.0</td>\n",
              "      <td>47033.0</td>\n",
              "      <td>0</td>\n",
              "    </tr>\n",
              "  </tbody>\n",
              "</table>\n",
              "</div>"
            ],
            "text/plain": [
              "   member_id  loan_amnt  ...  total_rev_hi_lim  loan_status\n",
              "0   58189336      14350  ...           30800.0            0\n",
              "1   70011223       4800  ...           32900.0            0\n",
              "2   70255675      10000  ...           34900.0            0\n",
              "3    1893936      15000  ...           24700.0            0\n",
              "4    7652106      16000  ...           47033.0            0\n",
              "\n",
              "[5 rows x 45 columns]"
            ]
          },
          "metadata": {},
          "execution_count": 6
        }
      ]
    },
    {
      "cell_type": "code",
      "metadata": {
        "colab": {
          "base_uri": "https://localhost:8080/"
        },
        "id": "9vk-Mvzb89Y-",
        "outputId": "299a239d-27b8-492d-f40f-820dac51186a"
      },
      "source": [
        "print(\"Total number of columns: \",df.shape[1])"
      ],
      "execution_count": 7,
      "outputs": [
        {
          "output_type": "stream",
          "name": "stdout",
          "text": [
            "Total number of columns:  45\n"
          ]
        }
      ]
    },
    {
      "cell_type": "code",
      "metadata": {
        "colab": {
          "base_uri": "https://localhost:8080/"
        },
        "id": "x1d8y1da_vXw",
        "outputId": "32c0b1c3-b554-4f74-8a26-ff62dd85f026"
      },
      "source": [
        "df.columns"
      ],
      "execution_count": 8,
      "outputs": [
        {
          "output_type": "execute_result",
          "data": {
            "text/plain": [
              "Index(['member_id', 'loan_amnt', 'funded_amnt', 'funded_amnt_inv', 'term',\n",
              "       'batch_enrolled', 'int_rate', 'grade', 'sub_grade', 'emp_title',\n",
              "       'emp_length', 'home_ownership', 'annual_inc', 'verification_status',\n",
              "       'pymnt_plan', 'desc', 'purpose', 'title', 'zip_code', 'addr_state',\n",
              "       'dti', 'delinq_2yrs', 'inq_last_6mths', 'mths_since_last_delinq',\n",
              "       'mths_since_last_record', 'open_acc', 'pub_rec', 'revol_bal',\n",
              "       'revol_util', 'total_acc', 'initial_list_status', 'total_rec_int',\n",
              "       'total_rec_late_fee', 'recoveries', 'collection_recovery_fee',\n",
              "       'collections_12_mths_ex_med', 'mths_since_last_major_derog',\n",
              "       'application_type', 'verification_status_joint', 'last_week_pay',\n",
              "       'acc_now_delinq', 'tot_coll_amt', 'tot_cur_bal', 'total_rev_hi_lim',\n",
              "       'loan_status'],\n",
              "      dtype='object')"
            ]
          },
          "metadata": {},
          "execution_count": 8
        }
      ]
    },
    {
      "cell_type": "markdown",
      "metadata": {
        "id": "TvMtE_wEA3kD"
      },
      "source": [
        "One column(loan_status) is our target variable and rests are the input variables"
      ]
    },
    {
      "cell_type": "code",
      "metadata": {
        "colab": {
          "base_uri": "https://localhost:8080/"
        },
        "id": "KvNxPtuKSMvh",
        "outputId": "336014ec-3dc1-4c9e-c2d2-1cd89c134a25"
      },
      "source": [
        "df.dtypes"
      ],
      "execution_count": 9,
      "outputs": [
        {
          "output_type": "execute_result",
          "data": {
            "text/plain": [
              "member_id                        int64\n",
              "loan_amnt                        int64\n",
              "funded_amnt                      int64\n",
              "funded_amnt_inv                float64\n",
              "term                            object\n",
              "batch_enrolled                  object\n",
              "int_rate                       float64\n",
              "grade                           object\n",
              "sub_grade                       object\n",
              "emp_title                       object\n",
              "emp_length                      object\n",
              "home_ownership                  object\n",
              "annual_inc                     float64\n",
              "verification_status             object\n",
              "pymnt_plan                      object\n",
              "desc                            object\n",
              "purpose                         object\n",
              "title                           object\n",
              "zip_code                        object\n",
              "addr_state                      object\n",
              "dti                            float64\n",
              "delinq_2yrs                    float64\n",
              "inq_last_6mths                 float64\n",
              "mths_since_last_delinq         float64\n",
              "mths_since_last_record         float64\n",
              "open_acc                       float64\n",
              "pub_rec                        float64\n",
              "revol_bal                      float64\n",
              "revol_util                     float64\n",
              "total_acc                      float64\n",
              "initial_list_status             object\n",
              "total_rec_int                  float64\n",
              "total_rec_late_fee             float64\n",
              "recoveries                     float64\n",
              "collection_recovery_fee        float64\n",
              "collections_12_mths_ex_med     float64\n",
              "mths_since_last_major_derog    float64\n",
              "application_type                object\n",
              "verification_status_joint       object\n",
              "last_week_pay                   object\n",
              "acc_now_delinq                 float64\n",
              "tot_coll_amt                   float64\n",
              "tot_cur_bal                    float64\n",
              "total_rev_hi_lim               float64\n",
              "loan_status                      int64\n",
              "dtype: object"
            ]
          },
          "metadata": {},
          "execution_count": 9
        }
      ]
    },
    {
      "cell_type": "markdown",
      "metadata": {
        "id": "Zfx_Hm4bA9aW"
      },
      "source": [
        "#**EDA: Exploratory Data Analysis**"
      ]
    },
    {
      "cell_type": "code",
      "metadata": {
        "colab": {
          "base_uri": "https://localhost:8080/",
          "height": 320
        },
        "id": "zB3h6nXxB3DD",
        "outputId": "a55a9d3f-8b3a-4b4b-9ae0-8400c4203881"
      },
      "source": [
        "df.describe()"
      ],
      "execution_count": 10,
      "outputs": [
        {
          "output_type": "execute_result",
          "data": {
            "text/html": [
              "<div>\n",
              "<style scoped>\n",
              "    .dataframe tbody tr th:only-of-type {\n",
              "        vertical-align: middle;\n",
              "    }\n",
              "\n",
              "    .dataframe tbody tr th {\n",
              "        vertical-align: top;\n",
              "    }\n",
              "\n",
              "    .dataframe thead th {\n",
              "        text-align: right;\n",
              "    }\n",
              "</style>\n",
              "<table border=\"1\" class=\"dataframe\">\n",
              "  <thead>\n",
              "    <tr style=\"text-align: right;\">\n",
              "      <th></th>\n",
              "      <th>member_id</th>\n",
              "      <th>loan_amnt</th>\n",
              "      <th>funded_amnt</th>\n",
              "      <th>funded_amnt_inv</th>\n",
              "      <th>int_rate</th>\n",
              "      <th>annual_inc</th>\n",
              "      <th>dti</th>\n",
              "      <th>delinq_2yrs</th>\n",
              "      <th>inq_last_6mths</th>\n",
              "      <th>mths_since_last_delinq</th>\n",
              "      <th>mths_since_last_record</th>\n",
              "      <th>open_acc</th>\n",
              "      <th>pub_rec</th>\n",
              "      <th>revol_bal</th>\n",
              "      <th>revol_util</th>\n",
              "      <th>total_acc</th>\n",
              "      <th>total_rec_int</th>\n",
              "      <th>total_rec_late_fee</th>\n",
              "      <th>recoveries</th>\n",
              "      <th>collection_recovery_fee</th>\n",
              "      <th>collections_12_mths_ex_med</th>\n",
              "      <th>mths_since_last_major_derog</th>\n",
              "      <th>acc_now_delinq</th>\n",
              "      <th>tot_coll_amt</th>\n",
              "      <th>tot_cur_bal</th>\n",
              "      <th>total_rev_hi_lim</th>\n",
              "      <th>loan_status</th>\n",
              "    </tr>\n",
              "  </thead>\n",
              "  <tbody>\n",
              "    <tr>\n",
              "      <th>count</th>\n",
              "      <td>5.324280e+05</td>\n",
              "      <td>532428.000000</td>\n",
              "      <td>532428.000000</td>\n",
              "      <td>532428.000000</td>\n",
              "      <td>532428.000000</td>\n",
              "      <td>5.324250e+05</td>\n",
              "      <td>532428.000000</td>\n",
              "      <td>532412.000000</td>\n",
              "      <td>532412.000000</td>\n",
              "      <td>259874.000000</td>\n",
              "      <td>82123.000000</td>\n",
              "      <td>532412.000000</td>\n",
              "      <td>532412.000000</td>\n",
              "      <td>5.324280e+05</td>\n",
              "      <td>532141.000000</td>\n",
              "      <td>532412.000000</td>\n",
              "      <td>532428.000000</td>\n",
              "      <td>532428.000000</td>\n",
              "      <td>532428.000000</td>\n",
              "      <td>532428.000000</td>\n",
              "      <td>532333.000000</td>\n",
              "      <td>132980.000000</td>\n",
              "      <td>532412.000000</td>\n",
              "      <td>490424.000000</td>\n",
              "      <td>4.904240e+05</td>\n",
              "      <td>4.904240e+05</td>\n",
              "      <td>532428.000000</td>\n",
              "    </tr>\n",
              "    <tr>\n",
              "      <th>mean</th>\n",
              "      <td>3.500547e+07</td>\n",
              "      <td>14757.595722</td>\n",
              "      <td>14744.271291</td>\n",
              "      <td>14704.926696</td>\n",
              "      <td>13.242969</td>\n",
              "      <td>7.502984e+04</td>\n",
              "      <td>18.138767</td>\n",
              "      <td>0.314448</td>\n",
              "      <td>0.694603</td>\n",
              "      <td>34.055735</td>\n",
              "      <td>70.093068</td>\n",
              "      <td>11.545594</td>\n",
              "      <td>0.194858</td>\n",
              "      <td>1.692128e+04</td>\n",
              "      <td>55.057189</td>\n",
              "      <td>25.267357</td>\n",
              "      <td>1753.428788</td>\n",
              "      <td>0.394954</td>\n",
              "      <td>45.717832</td>\n",
              "      <td>4.859221</td>\n",
              "      <td>0.014299</td>\n",
              "      <td>44.121462</td>\n",
              "      <td>0.005015</td>\n",
              "      <td>213.562222</td>\n",
              "      <td>1.395541e+05</td>\n",
              "      <td>3.208057e+04</td>\n",
              "      <td>0.236327</td>\n",
              "    </tr>\n",
              "    <tr>\n",
              "      <th>std</th>\n",
              "      <td>2.412148e+07</td>\n",
              "      <td>8434.420080</td>\n",
              "      <td>8429.139277</td>\n",
              "      <td>8441.290381</td>\n",
              "      <td>4.379611</td>\n",
              "      <td>6.519985e+04</td>\n",
              "      <td>8.369074</td>\n",
              "      <td>0.860045</td>\n",
              "      <td>0.997025</td>\n",
              "      <td>21.884797</td>\n",
              "      <td>28.139219</td>\n",
              "      <td>5.311442</td>\n",
              "      <td>0.583822</td>\n",
              "      <td>2.242322e+04</td>\n",
              "      <td>23.853436</td>\n",
              "      <td>11.843211</td>\n",
              "      <td>2093.199837</td>\n",
              "      <td>4.091546</td>\n",
              "      <td>409.647467</td>\n",
              "      <td>63.123361</td>\n",
              "      <td>0.133005</td>\n",
              "      <td>22.198410</td>\n",
              "      <td>0.079117</td>\n",
              "      <td>1958.571538</td>\n",
              "      <td>1.539149e+05</td>\n",
              "      <td>3.805304e+04</td>\n",
              "      <td>0.424826</td>\n",
              "    </tr>\n",
              "    <tr>\n",
              "      <th>min</th>\n",
              "      <td>7.047300e+04</td>\n",
              "      <td>500.000000</td>\n",
              "      <td>500.000000</td>\n",
              "      <td>0.000000</td>\n",
              "      <td>5.320000</td>\n",
              "      <td>1.200000e+03</td>\n",
              "      <td>0.000000</td>\n",
              "      <td>0.000000</td>\n",
              "      <td>0.000000</td>\n",
              "      <td>0.000000</td>\n",
              "      <td>0.000000</td>\n",
              "      <td>0.000000</td>\n",
              "      <td>0.000000</td>\n",
              "      <td>0.000000e+00</td>\n",
              "      <td>0.000000</td>\n",
              "      <td>1.000000</td>\n",
              "      <td>0.000000</td>\n",
              "      <td>0.000000</td>\n",
              "      <td>0.000000</td>\n",
              "      <td>0.000000</td>\n",
              "      <td>0.000000</td>\n",
              "      <td>0.000000</td>\n",
              "      <td>0.000000</td>\n",
              "      <td>0.000000</td>\n",
              "      <td>0.000000e+00</td>\n",
              "      <td>0.000000e+00</td>\n",
              "      <td>0.000000</td>\n",
              "    </tr>\n",
              "    <tr>\n",
              "      <th>25%</th>\n",
              "      <td>1.086688e+07</td>\n",
              "      <td>8000.000000</td>\n",
              "      <td>8000.000000</td>\n",
              "      <td>8000.000000</td>\n",
              "      <td>9.990000</td>\n",
              "      <td>4.500000e+04</td>\n",
              "      <td>11.930000</td>\n",
              "      <td>0.000000</td>\n",
              "      <td>0.000000</td>\n",
              "      <td>15.000000</td>\n",
              "      <td>51.000000</td>\n",
              "      <td>8.000000</td>\n",
              "      <td>0.000000</td>\n",
              "      <td>6.444000e+03</td>\n",
              "      <td>37.700000</td>\n",
              "      <td>17.000000</td>\n",
              "      <td>441.600000</td>\n",
              "      <td>0.000000</td>\n",
              "      <td>0.000000</td>\n",
              "      <td>0.000000</td>\n",
              "      <td>0.000000</td>\n",
              "      <td>27.000000</td>\n",
              "      <td>0.000000</td>\n",
              "      <td>0.000000</td>\n",
              "      <td>2.983975e+04</td>\n",
              "      <td>1.400000e+04</td>\n",
              "      <td>0.000000</td>\n",
              "    </tr>\n",
              "    <tr>\n",
              "      <th>50%</th>\n",
              "      <td>3.709590e+07</td>\n",
              "      <td>13000.000000</td>\n",
              "      <td>13000.000000</td>\n",
              "      <td>13000.000000</td>\n",
              "      <td>12.990000</td>\n",
              "      <td>6.500000e+04</td>\n",
              "      <td>17.650000</td>\n",
              "      <td>0.000000</td>\n",
              "      <td>0.000000</td>\n",
              "      <td>31.000000</td>\n",
              "      <td>70.000000</td>\n",
              "      <td>11.000000</td>\n",
              "      <td>0.000000</td>\n",
              "      <td>1.187600e+04</td>\n",
              "      <td>56.000000</td>\n",
              "      <td>24.000000</td>\n",
              "      <td>1072.690000</td>\n",
              "      <td>0.000000</td>\n",
              "      <td>0.000000</td>\n",
              "      <td>0.000000</td>\n",
              "      <td>0.000000</td>\n",
              "      <td>44.000000</td>\n",
              "      <td>0.000000</td>\n",
              "      <td>0.000000</td>\n",
              "      <td>8.066950e+04</td>\n",
              "      <td>2.370000e+04</td>\n",
              "      <td>0.000000</td>\n",
              "    </tr>\n",
              "    <tr>\n",
              "      <th>75%</th>\n",
              "      <td>5.848920e+07</td>\n",
              "      <td>20000.000000</td>\n",
              "      <td>20000.000000</td>\n",
              "      <td>20000.000000</td>\n",
              "      <td>16.200000</td>\n",
              "      <td>9.000000e+04</td>\n",
              "      <td>23.950000</td>\n",
              "      <td>0.000000</td>\n",
              "      <td>1.000000</td>\n",
              "      <td>50.000000</td>\n",
              "      <td>92.000000</td>\n",
              "      <td>14.000000</td>\n",
              "      <td>0.000000</td>\n",
              "      <td>2.084300e+04</td>\n",
              "      <td>73.600000</td>\n",
              "      <td>32.000000</td>\n",
              "      <td>2234.735000</td>\n",
              "      <td>0.000000</td>\n",
              "      <td>0.000000</td>\n",
              "      <td>0.000000</td>\n",
              "      <td>0.000000</td>\n",
              "      <td>61.000000</td>\n",
              "      <td>0.000000</td>\n",
              "      <td>0.000000</td>\n",
              "      <td>2.084792e+05</td>\n",
              "      <td>3.980000e+04</td>\n",
              "      <td>0.000000</td>\n",
              "    </tr>\n",
              "    <tr>\n",
              "      <th>max</th>\n",
              "      <td>7.354484e+07</td>\n",
              "      <td>35000.000000</td>\n",
              "      <td>35000.000000</td>\n",
              "      <td>35000.000000</td>\n",
              "      <td>28.990000</td>\n",
              "      <td>9.500000e+06</td>\n",
              "      <td>672.520000</td>\n",
              "      <td>30.000000</td>\n",
              "      <td>31.000000</td>\n",
              "      <td>180.000000</td>\n",
              "      <td>121.000000</td>\n",
              "      <td>90.000000</td>\n",
              "      <td>86.000000</td>\n",
              "      <td>2.568995e+06</td>\n",
              "      <td>892.300000</td>\n",
              "      <td>162.000000</td>\n",
              "      <td>24205.620000</td>\n",
              "      <td>358.680000</td>\n",
              "      <td>33520.270000</td>\n",
              "      <td>7002.190000</td>\n",
              "      <td>16.000000</td>\n",
              "      <td>180.000000</td>\n",
              "      <td>14.000000</td>\n",
              "      <td>496651.000000</td>\n",
              "      <td>8.000078e+06</td>\n",
              "      <td>9.999999e+06</td>\n",
              "      <td>1.000000</td>\n",
              "    </tr>\n",
              "  </tbody>\n",
              "</table>\n",
              "</div>"
            ],
            "text/plain": [
              "          member_id      loan_amnt  ...  total_rev_hi_lim    loan_status\n",
              "count  5.324280e+05  532428.000000  ...      4.904240e+05  532428.000000\n",
              "mean   3.500547e+07   14757.595722  ...      3.208057e+04       0.236327\n",
              "std    2.412148e+07    8434.420080  ...      3.805304e+04       0.424826\n",
              "min    7.047300e+04     500.000000  ...      0.000000e+00       0.000000\n",
              "25%    1.086688e+07    8000.000000  ...      1.400000e+04       0.000000\n",
              "50%    3.709590e+07   13000.000000  ...      2.370000e+04       0.000000\n",
              "75%    5.848920e+07   20000.000000  ...      3.980000e+04       0.000000\n",
              "max    7.354484e+07   35000.000000  ...      9.999999e+06       1.000000\n",
              "\n",
              "[8 rows x 27 columns]"
            ]
          },
          "metadata": {},
          "execution_count": 10
        }
      ]
    },
    {
      "cell_type": "markdown",
      "metadata": {
        "id": "bgduMJOYR2LG"
      },
      "source": [
        "### **Pre-processing**"
      ]
    },
    {
      "cell_type": "markdown",
      "metadata": {
        "id": "F2goUWUwmCqY"
      },
      "source": [
        "### Term Feature\n",
        "* remove months\n",
        "* convert to numeric \n",
        "* rename column as term(month)"
      ]
    },
    {
      "cell_type": "code",
      "metadata": {
        "id": "47WI7tOxSCHi"
      },
      "source": [
        "df['term'].replace(to_replace=' months', value='', regex=True, inplace=True) \n",
        "df['term'] = pd.to_numeric(df['term'])\n",
        "df.rename(columns = {'term':'term(months)'}, inplace = True)\n"
      ],
      "execution_count": 8,
      "outputs": []
    },
    {
      "cell_type": "code",
      "metadata": {
        "id": "ozVR3wYPhQkA"
      },
      "source": [
        "df_test['term'].replace(to_replace=' months', value='', regex=True, inplace=True) \n",
        "df_test['term'] = pd.to_numeric(df_test['term'])\n",
        "df_test.rename(columns = {'term':'term(months)'}, inplace = True)"
      ],
      "execution_count": 9,
      "outputs": []
    },
    {
      "cell_type": "markdown",
      "metadata": {
        "id": "MIXdpxP9mNXL"
      },
      "source": [
        "### last_week_pay Feature\n",
        "* remove th week\n",
        "* remove NA\n",
        "* convert to numeric"
      ]
    },
    {
      "cell_type": "code",
      "metadata": {
        "id": "pP8XnOX-WBAO"
      },
      "source": [
        "df['last_week_pay'].replace(to_replace='th week', value='', regex=True, inplace=True)\n",
        "df['last_week_pay'].replace(to_replace='NA', value=None, regex=True, inplace=True)\n",
        "df['last_week_pay'] = pd.to_numeric(df['last_week_pay'])"
      ],
      "execution_count": 10,
      "outputs": []
    },
    {
      "cell_type": "code",
      "metadata": {
        "id": "3-K5ZjDRhbvq"
      },
      "source": [
        "df_test['last_week_pay'].replace(to_replace='th week', value='', regex=True, inplace=True)\n",
        "df_test['last_week_pay'].replace(to_replace='NA', value=None, regex=True, inplace=True)\n",
        "df_test['last_week_pay'] = pd.to_numeric(df_test['last_week_pay'])"
      ],
      "execution_count": 11,
      "outputs": []
    },
    {
      "cell_type": "markdown",
      "metadata": {
        "id": "96Mapa2Am-cf"
      },
      "source": [
        "### emp_length Feature\n",
        "* remove year, years, '+', '<'\n",
        "* convert to numeric"
      ]
    },
    {
      "cell_type": "code",
      "metadata": {
        "id": "w_PfnoVGXaWB"
      },
      "source": [
        "df['emp_length'].replace(to_replace='years', value='', regex=True, inplace=True)\n",
        "df['emp_length'].replace(to_replace='\\+', value='', regex=True, inplace=True)\n",
        "df['emp_length'].replace(to_replace='< ', value='', regex=True, inplace=True)\n",
        "df['emp_length'].replace(to_replace='year', value='', regex=True, inplace=True)\n",
        "\n",
        "df['emp_length'] = pd.to_numeric(df['emp_length'])"
      ],
      "execution_count": 12,
      "outputs": []
    },
    {
      "cell_type": "code",
      "metadata": {
        "id": "fm4d9rhehmHg"
      },
      "source": [
        "df_test['emp_length'].replace(to_replace='years', value='', regex=True, inplace=True)\n",
        "df_test['emp_length'].replace(to_replace='\\+', value='', regex=True, inplace=True)\n",
        "df_test['emp_length'].replace(to_replace='< ', value='', regex=True, inplace=True)\n",
        "df_test['emp_length'].replace(to_replace='year', value='', regex=True, inplace=True)\n",
        "\n",
        "df_test['emp_length'] = pd.to_numeric(df_test['emp_length'])"
      ],
      "execution_count": 13,
      "outputs": []
    },
    {
      "cell_type": "markdown",
      "metadata": {
        "id": "qiYCC7fAVfx0"
      },
      "source": [
        "## **Feature Engineering**"
      ]
    },
    {
      "cell_type": "markdown",
      "metadata": {
        "id": "DoJi_sB5N3ot"
      },
      "source": [
        "###**Handling Columns with null values**"
      ]
    },
    {
      "cell_type": "markdown",
      "metadata": {
        "id": "_wQRKL_zXYyq"
      },
      "source": [
        "We will replace the null values with 2 approaches:\n",
        "\n",
        "* in numerical columns with the mean\n",
        "* in categorical columns with the median"
      ]
    },
    {
      "cell_type": "code",
      "metadata": {
        "colab": {
          "base_uri": "https://localhost:8080/"
        },
        "id": "bTluC_LhB-fA",
        "outputId": "6fa2aaa2-e114-40d7-bf6d-91099ca5ee30"
      },
      "source": [
        "df.isnull().sum()"
      ],
      "execution_count": 14,
      "outputs": [
        {
          "output_type": "execute_result",
          "data": {
            "text/plain": [
              "member_id                           0\n",
              "loan_amnt                           0\n",
              "funded_amnt                         0\n",
              "funded_amnt_inv                     0\n",
              "term(months)                        0\n",
              "batch_enrolled                  85149\n",
              "int_rate                            0\n",
              "grade                               0\n",
              "sub_grade                           0\n",
              "emp_title                       30833\n",
              "emp_length                      26891\n",
              "home_ownership                      0\n",
              "annual_inc                          3\n",
              "verification_status                 0\n",
              "pymnt_plan                          0\n",
              "desc                           456829\n",
              "purpose                             0\n",
              "title                              90\n",
              "zip_code                            0\n",
              "addr_state                          0\n",
              "dti                                 0\n",
              "delinq_2yrs                        16\n",
              "inq_last_6mths                     16\n",
              "mths_since_last_delinq         272554\n",
              "mths_since_last_record         450305\n",
              "open_acc                           16\n",
              "pub_rec                            16\n",
              "revol_bal                           0\n",
              "revol_util                        287\n",
              "total_acc                          16\n",
              "initial_list_status                 0\n",
              "total_rec_int                       0\n",
              "total_rec_late_fee                  0\n",
              "recoveries                          0\n",
              "collection_recovery_fee             0\n",
              "collections_12_mths_ex_med         95\n",
              "mths_since_last_major_derog    399448\n",
              "application_type                    0\n",
              "verification_status_joint      532123\n",
              "last_week_pay                       0\n",
              "acc_now_delinq                     16\n",
              "tot_coll_amt                    42004\n",
              "tot_cur_bal                     42004\n",
              "total_rev_hi_lim                42004\n",
              "loan_status                         0\n",
              "dtype: int64"
            ]
          },
          "metadata": {},
          "execution_count": 14
        }
      ]
    },
    {
      "cell_type": "code",
      "metadata": {
        "id": "d8sEXrdPsbTd"
      },
      "source": [
        "numeric_columns = ['member_id', 'loan_amnt', 'funded_amnt', 'funded_amnt_inv', 'term(months)',\n",
        "        'int_rate', 'emp_length',  'annual_inc',    \n",
        "          'revol_bal', 'revol_util',  'total_rec_int',\n",
        "       'total_rec_late_fee', 'recoveries', 'collection_recovery_fee',\n",
        "         'tot_coll_amt', 'tot_cur_bal', 'total_rev_hi_lim']\n",
        "\n",
        "obj_categorical_columns = ['batch_enrolled','emp_title','desc','addr_state','grade','sub_grade',\n",
        "                  'home_ownership','title','verification_status','pymnt_plan','purpose','zip_code','dti',\n",
        "                  'initial_list_status','application_type','verification_status_joint', ]\n",
        "\n",
        "num_categorical_columns = ['acc_now_delinq','delinq_2yrs','inq_last_6mths','mths_since_last_delinq',\n",
        "                       'mths_since_last_record','open_acc','pub_rec','total_acc','collections_12_mths_ex_med',\n",
        "                       'mths_since_last_major_derog','last_week_pay',]"
      ],
      "execution_count": 15,
      "outputs": []
    },
    {
      "cell_type": "markdown",
      "metadata": {
        "id": "N6WBqubbpUvg"
      },
      "source": [
        "### **Replace null with the mean value**"
      ]
    },
    {
      "cell_type": "code",
      "metadata": {
        "id": "Hg07BA7LQlyZ"
      },
      "source": [
        "# Replace null with mean values\n",
        "for col in numeric_columns:\n",
        "  df[col].fillna(df[col].mean(skipna = True), inplace=True)\n",
        "  df_test[col].fillna(df_test[col].mean(skipna = True), inplace=True)\n",
        "    "
      ],
      "execution_count": 16,
      "outputs": []
    },
    {
      "cell_type": "markdown",
      "metadata": {
        "id": "72wUc6PLpg9m"
      },
      "source": [
        "### **Label encoding of categorical datas and replace null with median**"
      ]
    },
    {
      "cell_type": "code",
      "metadata": {
        "id": "rBZlR5Ml6dK6"
      },
      "source": [
        "from sklearn.preprocessing import LabelEncoder\n",
        "le = LabelEncoder()\n",
        "for cols in obj_categorical_columns:\n",
        "  df[cols] = le.fit_transform(df[cols].astype(str))\n",
        "  df_test[cols] = le.fit_transform(df_test[cols].astype(str))\n"
      ],
      "execution_count": 17,
      "outputs": []
    },
    {
      "cell_type": "code",
      "metadata": {
        "id": "cP1KL2AW7Fur"
      },
      "source": [
        "for cols in num_categorical_columns + obj_categorical_columns:\n",
        "  df[cols].fillna(df[cols].median(skipna = True), inplace=True)\n",
        "  df_test[cols].fillna(df_test[cols].median(skipna = True), inplace=True)"
      ],
      "execution_count": 18,
      "outputs": []
    },
    {
      "cell_type": "markdown",
      "metadata": {
        "id": "SLyXpMoHARZq"
      },
      "source": [
        "### **Input and Target dataframe**"
      ]
    },
    {
      "cell_type": "code",
      "metadata": {
        "id": "ha7VVOWf_yUO"
      },
      "source": [
        "y = df['loan_status']\n",
        "x = df.drop(columns = ['loan_status'])"
      ],
      "execution_count": 19,
      "outputs": []
    },
    {
      "cell_type": "code",
      "metadata": {
        "colab": {
          "base_uri": "https://localhost:8080/",
          "height": 357
        },
        "id": "3rKbOYKuAeoF",
        "outputId": "97c1f53f-9f33-4511-f9d1-e2b76c838dac"
      },
      "source": [
        "y.value_counts().plot(kind='pie', subplots=True, autopct='%1.2f%%', explode= (0.05, 0.05), startangle=80, legend=True, fontsize=12, figsize=(14,6), textprops={'color':\"black\"})\n",
        "plt.legend([\"0: paid loan\",\"1: not paid loan\"]);"
      ],
      "execution_count": 33,
      "outputs": [
        {
          "output_type": "display_data",
          "data": {
            "image/png": "[encoded data removed]",
            "text/plain": [
              "<Figure size 1008x432 with 1 Axes>"
            ]
          },
          "metadata": {}
        }
      ]
    },
    {
      "cell_type": "markdown",
      "metadata": {
        "id": "tBmsj2t5CIS9"
      },
      "source": [
        "# **Findding Corelation**"
      ]
    },
    {
      "cell_type": "code",
      "metadata": {
        "colab": {
          "base_uri": "https://localhost:8080/",
          "height": 1000
        },
        "id": "GVIL534mecXv",
        "outputId": "1f426353-f789-4ce3-dac6-432d6b0d8a54"
      },
      "source": [
        "corre=pd.DataFrame()\n",
        "for i in x.columns:\n",
        "  print(i)\n",
        "  corre[i]= pearsonr(y, x[i])\n",
        "    \n",
        "corre.T"
      ],
      "execution_count": 35,
      "outputs": [
        {
          "output_type": "stream",
          "name": "stdout",
          "text": [
            "member_id\n",
            "loan_amnt\n",
            "funded_amnt\n",
            "funded_amnt_inv\n",
            "term(months)\n",
            "batch_enrolled\n",
            "int_rate\n",
            "grade\n",
            "sub_grade\n",
            "emp_title\n",
            "emp_length\n",
            "home_ownership\n",
            "annual_inc\n",
            "verification_status\n",
            "pymnt_plan\n",
            "desc\n",
            "purpose\n",
            "title\n",
            "zip_code\n",
            "addr_state\n",
            "dti\n",
            "delinq_2yrs\n",
            "inq_last_6mths\n",
            "mths_since_last_delinq\n",
            "mths_since_last_record\n",
            "open_acc\n",
            "pub_rec\n",
            "revol_bal\n",
            "revol_util\n",
            "total_acc\n",
            "initial_list_status\n",
            "total_rec_int\n",
            "total_rec_late_fee\n",
            "recoveries\n",
            "collection_recovery_fee\n",
            "collections_12_mths_ex_med\n",
            "mths_since_last_major_derog\n",
            "application_type\n",
            "verification_status_joint\n",
            "last_week_pay\n",
            "acc_now_delinq\n",
            "tot_coll_amt\n",
            "tot_cur_bal\n",
            "total_rev_hi_lim\n"
          ]
        },
        {
          "output_type": "execute_result",
          "data": {
            "text/html": [
              "<div>\n",
              "<style scoped>\n",
              "    .dataframe tbody tr th:only-of-type {\n",
              "        vertical-align: middle;\n",
              "    }\n",
              "\n",
              "    .dataframe tbody tr th {\n",
              "        vertical-align: top;\n",
              "    }\n",
              "\n",
              "    .dataframe thead th {\n",
              "        text-align: right;\n",
              "    }\n",
              "</style>\n",
              "<table border=\"1\" class=\"dataframe\">\n",
              "  <thead>\n",
              "    <tr style=\"text-align: right;\">\n",
              "      <th></th>\n",
              "      <th>0</th>\n",
              "      <th>1</th>\n",
              "    </tr>\n",
              "  </thead>\n",
              "  <tbody>\n",
              "    <tr>\n",
              "      <th>member_id</th>\n",
              "      <td>-0.489753</td>\n",
              "      <td>0.000000e+00</td>\n",
              "    </tr>\n",
              "    <tr>\n",
              "      <th>loan_amnt</th>\n",
              "      <td>-0.095713</td>\n",
              "      <td>0.000000e+00</td>\n",
              "    </tr>\n",
              "    <tr>\n",
              "      <th>funded_amnt</th>\n",
              "      <td>-0.097563</td>\n",
              "      <td>0.000000e+00</td>\n",
              "    </tr>\n",
              "    <tr>\n",
              "      <th>funded_amnt_inv</th>\n",
              "      <td>-0.101877</td>\n",
              "      <td>0.000000e+00</td>\n",
              "    </tr>\n",
              "    <tr>\n",
              "      <th>term(months)</th>\n",
              "      <td>-0.130959</td>\n",
              "      <td>0.000000e+00</td>\n",
              "    </tr>\n",
              "    <tr>\n",
              "      <th>batch_enrolled</th>\n",
              "      <td>0.059416</td>\n",
              "      <td>0.000000e+00</td>\n",
              "    </tr>\n",
              "    <tr>\n",
              "      <th>int_rate</th>\n",
              "      <td>0.002590</td>\n",
              "      <td>5.881430e-02</td>\n",
              "    </tr>\n",
              "    <tr>\n",
              "      <th>grade</th>\n",
              "      <td>-0.056775</td>\n",
              "      <td>0.000000e+00</td>\n",
              "    </tr>\n",
              "    <tr>\n",
              "      <th>sub_grade</th>\n",
              "      <td>-0.056880</td>\n",
              "      <td>0.000000e+00</td>\n",
              "    </tr>\n",
              "    <tr>\n",
              "      <th>emp_title</th>\n",
              "      <td>-0.030505</td>\n",
              "      <td>8.286758e-110</td>\n",
              "    </tr>\n",
              "    <tr>\n",
              "      <th>emp_length</th>\n",
              "      <td>-0.028728</td>\n",
              "      <td>1.324565e-97</td>\n",
              "    </tr>\n",
              "    <tr>\n",
              "      <th>home_ownership</th>\n",
              "      <td>-0.003807</td>\n",
              "      <td>5.471257e-03</td>\n",
              "    </tr>\n",
              "    <tr>\n",
              "      <th>annual_inc</th>\n",
              "      <td>-0.008596</td>\n",
              "      <td>3.552052e-10</td>\n",
              "    </tr>\n",
              "    <tr>\n",
              "      <th>verification_status</th>\n",
              "      <td>-0.022152</td>\n",
              "      <td>8.776304e-59</td>\n",
              "    </tr>\n",
              "    <tr>\n",
              "      <th>pymnt_plan</th>\n",
              "      <td>0.000125</td>\n",
              "      <td>9.274649e-01</td>\n",
              "    </tr>\n",
              "    <tr>\n",
              "      <th>desc</th>\n",
              "      <td>-0.298598</td>\n",
              "      <td>0.000000e+00</td>\n",
              "    </tr>\n",
              "    <tr>\n",
              "      <th>purpose</th>\n",
              "      <td>0.059788</td>\n",
              "      <td>0.000000e+00</td>\n",
              "    </tr>\n",
              "    <tr>\n",
              "      <th>title</th>\n",
              "      <td>0.179038</td>\n",
              "      <td>0.000000e+00</td>\n",
              "    </tr>\n",
              "    <tr>\n",
              "      <th>zip_code</th>\n",
              "      <td>0.025329</td>\n",
              "      <td>2.734448e-76</td>\n",
              "    </tr>\n",
              "    <tr>\n",
              "      <th>addr_state</th>\n",
              "      <td>-0.021528</td>\n",
              "      <td>1.285782e-55</td>\n",
              "    </tr>\n",
              "    <tr>\n",
              "      <th>dti</th>\n",
              "      <td>-0.021116</td>\n",
              "      <td>1.417188e-53</td>\n",
              "    </tr>\n",
              "    <tr>\n",
              "      <th>delinq_2yrs</th>\n",
              "      <td>-0.045730</td>\n",
              "      <td>2.215826e-244</td>\n",
              "    </tr>\n",
              "    <tr>\n",
              "      <th>inq_last_6mths</th>\n",
              "      <td>0.087306</td>\n",
              "      <td>0.000000e+00</td>\n",
              "    </tr>\n",
              "    <tr>\n",
              "      <th>mths_since_last_delinq</th>\n",
              "      <td>0.014776</td>\n",
              "      <td>4.182949e-27</td>\n",
              "    </tr>\n",
              "    <tr>\n",
              "      <th>mths_since_last_record</th>\n",
              "      <td>0.026823</td>\n",
              "      <td>2.499702e-85</td>\n",
              "    </tr>\n",
              "    <tr>\n",
              "      <th>open_acc</th>\n",
              "      <td>-0.065049</td>\n",
              "      <td>0.000000e+00</td>\n",
              "    </tr>\n",
              "    <tr>\n",
              "      <th>pub_rec</th>\n",
              "      <td>-0.048895</td>\n",
              "      <td>4.099144e-279</td>\n",
              "    </tr>\n",
              "    <tr>\n",
              "      <th>revol_bal</th>\n",
              "      <td>-0.040051</td>\n",
              "      <td>6.733053e-188</td>\n",
              "    </tr>\n",
              "    <tr>\n",
              "      <th>revol_util</th>\n",
              "      <td>-0.047179</td>\n",
              "      <td>5.451474e-260</td>\n",
              "    </tr>\n",
              "    <tr>\n",
              "      <th>total_acc</th>\n",
              "      <td>-0.002636</td>\n",
              "      <td>5.447066e-02</td>\n",
              "    </tr>\n",
              "    <tr>\n",
              "      <th>initial_list_status</th>\n",
              "      <td>-0.229466</td>\n",
              "      <td>0.000000e+00</td>\n",
              "    </tr>\n",
              "    <tr>\n",
              "      <th>total_rec_int</th>\n",
              "      <td>0.038344</td>\n",
              "      <td>2.214587e-172</td>\n",
              "    </tr>\n",
              "    <tr>\n",
              "      <th>total_rec_late_fee</th>\n",
              "      <td>-0.004353</td>\n",
              "      <td>1.492468e-03</td>\n",
              "    </tr>\n",
              "    <tr>\n",
              "      <th>recoveries</th>\n",
              "      <td>-0.062084</td>\n",
              "      <td>0.000000e+00</td>\n",
              "    </tr>\n",
              "    <tr>\n",
              "      <th>collection_recovery_fee</th>\n",
              "      <td>-0.042823</td>\n",
              "      <td>1.563180e-214</td>\n",
              "    </tr>\n",
              "    <tr>\n",
              "      <th>collections_12_mths_ex_med</th>\n",
              "      <td>-0.033938</td>\n",
              "      <td>1.837681e-135</td>\n",
              "    </tr>\n",
              "    <tr>\n",
              "      <th>mths_since_last_major_derog</th>\n",
              "      <td>-0.004959</td>\n",
              "      <td>2.965551e-04</td>\n",
              "    </tr>\n",
              "    <tr>\n",
              "      <th>application_type</th>\n",
              "      <td>-0.013133</td>\n",
              "      <td>9.374623e-22</td>\n",
              "    </tr>\n",
              "    <tr>\n",
              "      <th>verification_status_joint</th>\n",
              "      <td>0.012156</td>\n",
              "      <td>7.280062e-19</td>\n",
              "    </tr>\n",
              "    <tr>\n",
              "      <th>last_week_pay</th>\n",
              "      <td>0.255405</td>\n",
              "      <td>0.000000e+00</td>\n",
              "    </tr>\n",
              "    <tr>\n",
              "      <th>acc_now_delinq</th>\n",
              "      <td>-0.014417</td>\n",
              "      <td>6.968704e-26</td>\n",
              "    </tr>\n",
              "    <tr>\n",
              "      <th>tot_coll_amt</th>\n",
              "      <td>-0.011635</td>\n",
              "      <td>2.063447e-17</td>\n",
              "    </tr>\n",
              "    <tr>\n",
              "      <th>tot_cur_bal</th>\n",
              "      <td>0.012884</td>\n",
              "      <td>5.363600e-21</td>\n",
              "    </tr>\n",
              "    <tr>\n",
              "      <th>total_rev_hi_lim</th>\n",
              "      <td>-0.017275</td>\n",
              "      <td>1.953125e-36</td>\n",
              "    </tr>\n",
              "  </tbody>\n",
              "</table>\n",
              "</div>"
            ],
            "text/plain": [
              "                                    0              1\n",
              "member_id                   -0.489753   0.000000e+00\n",
              "loan_amnt                   -0.095713   0.000000e+00\n",
              "funded_amnt                 -0.097563   0.000000e+00\n",
              "funded_amnt_inv             -0.101877   0.000000e+00\n",
              "term(months)                -0.130959   0.000000e+00\n",
              "batch_enrolled               0.059416   0.000000e+00\n",
              "int_rate                     0.002590   5.881430e-02\n",
              "grade                       -0.056775   0.000000e+00\n",
              "sub_grade                   -0.056880   0.000000e+00\n",
              "emp_title                   -0.030505  8.286758e-110\n",
              "emp_length                  -0.028728   1.324565e-97\n",
              "home_ownership              -0.003807   5.471257e-03\n",
              "annual_inc                  -0.008596   3.552052e-10\n",
              "verification_status         -0.022152   8.776304e-59\n",
              "pymnt_plan                   0.000125   9.274649e-01\n",
              "desc                        -0.298598   0.000000e+00\n",
              "purpose                      0.059788   0.000000e+00\n",
              "title                        0.179038   0.000000e+00\n",
              "zip_code                     0.025329   2.734448e-76\n",
              "addr_state                  -0.021528   1.285782e-55\n",
              "dti                         -0.021116   1.417188e-53\n",
              "delinq_2yrs                 -0.045730  2.215826e-244\n",
              "inq_last_6mths               0.087306   0.000000e+00\n",
              "mths_since_last_delinq       0.014776   4.182949e-27\n",
              "mths_since_last_record       0.026823   2.499702e-85\n",
              "open_acc                    -0.065049   0.000000e+00\n",
              "pub_rec                     -0.048895  4.099144e-279\n",
              "revol_bal                   -0.040051  6.733053e-188\n",
              "revol_util                  -0.047179  5.451474e-260\n",
              "total_acc                   -0.002636   5.447066e-02\n",
              "initial_list_status         -0.229466   0.000000e+00\n",
              "total_rec_int                0.038344  2.214587e-172\n",
              "total_rec_late_fee          -0.004353   1.492468e-03\n",
              "recoveries                  -0.062084   0.000000e+00\n",
              "collection_recovery_fee     -0.042823  1.563180e-214\n",
              "collections_12_mths_ex_med  -0.033938  1.837681e-135\n",
              "mths_since_last_major_derog -0.004959   2.965551e-04\n",
              "application_type            -0.013133   9.374623e-22\n",
              "verification_status_joint    0.012156   7.280062e-19\n",
              "last_week_pay                0.255405   0.000000e+00\n",
              "acc_now_delinq              -0.014417   6.968704e-26\n",
              "tot_coll_amt                -0.011635   2.063447e-17\n",
              "tot_cur_bal                  0.012884   5.363600e-21\n",
              "total_rev_hi_lim            -0.017275   1.953125e-36"
            ]
          },
          "metadata": {},
          "execution_count": 35
        }
      ]
    },
    {
      "cell_type": "code",
      "metadata": {
        "colab": {
          "base_uri": "https://localhost:8080/"
        },
        "id": "cCUmfIupferp",
        "outputId": "4c1392fd-f846-43fa-a774-cddbd020eaad"
      },
      "source": [
        "corre2= corre.T.iloc[:,0].sort_values(ascending=False)\n",
        "corre2"
      ],
      "execution_count": 36,
      "outputs": [
        {
          "output_type": "execute_result",
          "data": {
            "text/plain": [
              "last_week_pay                  0.255405\n",
              "title                          0.179038\n",
              "inq_last_6mths                 0.087306\n",
              "purpose                        0.059788\n",
              "batch_enrolled                 0.059416\n",
              "total_rec_int                  0.038344\n",
              "mths_since_last_record         0.026823\n",
              "zip_code                       0.025329\n",
              "mths_since_last_delinq         0.014776\n",
              "tot_cur_bal                    0.012884\n",
              "verification_status_joint      0.012156\n",
              "int_rate                       0.002590\n",
              "pymnt_plan                     0.000125\n",
              "total_acc                     -0.002636\n",
              "home_ownership                -0.003807\n",
              "total_rec_late_fee            -0.004353\n",
              "mths_since_last_major_derog   -0.004959\n",
              "annual_inc                    -0.008596\n",
              "tot_coll_amt                  -0.011635\n",
              "application_type              -0.013133\n",
              "acc_now_delinq                -0.014417\n",
              "total_rev_hi_lim              -0.017275\n",
              "dti                           -0.021116\n",
              "addr_state                    -0.021528\n",
              "verification_status           -0.022152\n",
              "emp_length                    -0.028728\n",
              "emp_title                     -0.030505\n",
              "collections_12_mths_ex_med    -0.033938\n",
              "revol_bal                     -0.040051\n",
              "collection_recovery_fee       -0.042823\n",
              "delinq_2yrs                   -0.045730\n",
              "revol_util                    -0.047179\n",
              "pub_rec                       -0.048895\n",
              "grade                         -0.056775\n",
              "sub_grade                     -0.056880\n",
              "recoveries                    -0.062084\n",
              "open_acc                      -0.065049\n",
              "loan_amnt                     -0.095713\n",
              "funded_amnt                   -0.097563\n",
              "funded_amnt_inv               -0.101877\n",
              "term(months)                  -0.130959\n",
              "initial_list_status           -0.229466\n",
              "desc                          -0.298598\n",
              "member_id                     -0.489753\n",
              "Name: 0, dtype: float64"
            ]
          },
          "metadata": {},
          "execution_count": 36
        }
      ]
    },
    {
      "cell_type": "code",
      "metadata": {
        "colab": {
          "base_uri": "https://localhost:8080/",
          "height": 423
        },
        "id": "xdSi4dNJCQ62",
        "outputId": "b05cd982-33f8-4506-fe71-5ab48e63c580"
      },
      "source": [
        "corre3 = df.corr()\n",
        "corre3\n",
        "sns.heatmap(corre3)"
      ],
      "execution_count": 37,
      "outputs": [
        {
          "output_type": "execute_result",
          "data": {
            "text/plain": [
              "<matplotlib.axes._subplots.AxesSubplot at 0x7fac9481ff50>"
            ]
          },
          "metadata": {},
          "execution_count": 37
        },
        {
          "output_type": "display_data",
          "data": {
            "image/png": "[encoded data removed]",
            "text/plain": [
              "<Figure size 432x288 with 2 Axes>"
            ]
          },
          "metadata": {
            "needs_background": "light"
          }
        }
      ]
    },
    {
      "cell_type": "markdown",
      "metadata": {
        "id": "mqSsdqq6PhPV"
      },
      "source": [
        "# **Model Training**\n",
        "* We will split the data into train and test\n",
        "* Train the CatBoost Classifier with the train dataset and predict with test dataset\n",
        "* Plot the ROC curve"
      ]
    },
    {
      "cell_type": "code",
      "metadata": {
        "id": "aAqcABsTXuR0"
      },
      "source": [
        "x_train,x_test,y_train, y_test  = train_test_split(x, y, test_size=0.33)"
      ],
      "execution_count": 23,
      "outputs": []
    },
    {
      "cell_type": "markdown",
      "metadata": {
        "id": "joG-bTUYOCNw"
      },
      "source": [
        "## **CatBoost Classifier** "
      ]
    },
    {
      "cell_type": "code",
      "metadata": {
        "id": "q4fMuTcoYspd"
      },
      "source": [
        "!pip install catboost"
      ],
      "execution_count": null,
      "outputs": []
    },
    {
      "cell_type": "code",
      "metadata": {
        "colab": {
          "base_uri": "https://localhost:8080/"
        },
        "id": "mM6O1RQHW-aj",
        "outputId": "95f75241-d878-480e-b7d2-5ea52423f788"
      },
      "source": [
        "from catboost import CatBoostClassifier\n",
        "\n",
        "    # Training the model\n",
        "model_cat = CatBoostClassifier( learning_rate=0.1, n_estimators=1400, subsample=0.70, max_depth=6, scale_pos_weight=2.5, silent=True, eval_metric = 'AUC')\n",
        "model_cat.fit(x_train, y_train)\n",
        "\n",
        "    # Predicting the probability\n",
        "y_pred_prob = model_cat.predict_proba(x_test)\n",
        "y_pred = [value[1] for value in y_pred_prob]\n",
        "\n",
        "    # Accuracy ROC-AUC\n",
        "accuracy_per_roc_auc = roc_auc_score(y_test, y_pred)\n",
        "print(\"==========================\")\n",
        "print(\"ROC-AUC: %.10f%%\" % (accuracy_per_roc_auc * 100))\n",
        "\n",
        "    "
      ],
      "execution_count": 25,
      "outputs": [
        {
          "output_type": "stream",
          "name": "stdout",
          "text": [
            "==========================\n",
            "ROC-AUC: 97.5853305104%\n"
          ]
        }
      ]
    },
    {
      "cell_type": "code",
      "metadata": {
        "colab": {
          "base_uri": "https://localhost:8080/"
        },
        "id": "nGZdSQhtTfmi",
        "outputId": "168c9490-943f-4e6d-e0fc-a0b120c8ca80"
      },
      "source": [
        "print(\"==========================\")\n",
        "y_pred_class = []\n",
        "for x in y_pred:\n",
        "  if x>0.5:\n",
        "    y_pred_class.append(1)\n",
        "  else:\n",
        "    y_pred_class.append(0)\n",
        "print(metrics.classification_report(y_test,y_pred_class ))"
      ],
      "execution_count": 26,
      "outputs": [
        {
          "output_type": "stream",
          "name": "stdout",
          "text": [
            "==========================\n",
            "              precision    recall  f1-score   support\n",
            "\n",
            "           0       0.98      0.94      0.96    134233\n",
            "           1       0.84      0.93      0.88     41469\n",
            "\n",
            "    accuracy                           0.94    175702\n",
            "   macro avg       0.91      0.94      0.92    175702\n",
            "weighted avg       0.94      0.94      0.94    175702\n",
            "\n"
          ]
        }
      ]
    },
    {
      "cell_type": "markdown",
      "metadata": {
        "id": "zArkOS0KCkzi"
      },
      "source": [
        "## **Plot ROC curve**"
      ]
    },
    {
      "cell_type": "code",
      "metadata": {
        "colab": {
          "base_uri": "https://localhost:8080/",
          "height": 295
        },
        "id": "rj8ofclcCrJ2",
        "outputId": "8f887c56-e45e-46fb-8d50-32d4834707b6"
      },
      "source": [
        "y_train_pred = model_cat.predict(x_train)    \n",
        "y_test_pred = model_cat.predict(x_test)\n",
        "\n",
        "\n",
        "train_fpr, train_tpr, train_thresholds = roc_curve(y_train, y_train_pred)\n",
        "test_fpr, test_tpr, test_thresholds = roc_curve(y_test, y_test_pred)\n",
        "\n",
        "plt.plot(train_fpr, train_tpr, label=\"Train AUC =\"+str(auc(train_fpr, train_tpr)))\n",
        "plt.plot(test_fpr, test_tpr, label=\"Test AUC =\"+str(auc(test_fpr, test_tpr)))\n",
        "plt.legend()\n",
        "plt.xlabel(\"True Positive Rate(TPR)\", fontweight='bold')\n",
        "plt.ylabel(\"False Positive Rate(FPR)\", fontweight='bold')\n",
        "plt.title(\"ROC-AUC\", fontweight='bold')\n",
        "plt.grid()\n",
        "plt.show()"
      ],
      "execution_count": 27,
      "outputs": [
        {
          "output_type": "display_data",
          "data": {
            "image/png": "[encoded data removed]",
            "text/plain": [
              "<Figure size 432x288 with 1 Axes>"
            ]
          },
          "metadata": {
            "needs_background": "light"
          }
        }
      ]
    },
    {
      "cell_type": "markdown",
      "metadata": {
        "id": "MHV-MSOZ7za-"
      },
      "source": [
        "# **Predict on Test Data (test_inessa.csv)**"
      ]
    },
    {
      "cell_type": "code",
      "metadata": {
        "id": "7-csqjbsf-iR"
      },
      "source": [
        "y_pred_prob = model_cat.predict_proba(df_test)\n",
        "y_pred_default = pd.DataFrame([value[1] for value in y_pred_prob])\n",
        "df_test['loan_status'] = y_pred_default[0]\n",
        "submission = df[['member_id','loan_status']]\n",
        "submission.to_csv('submission.csv')\n"
      ],
      "execution_count": 42,
      "outputs": []
    },
    {
      "cell_type": "markdown",
      "metadata": {
        "id": "Yn_Y6HO4fZoO"
      },
      "source": [
        "# **Final Result is saved in submission.csv**"
      ]
    }
  ]
}